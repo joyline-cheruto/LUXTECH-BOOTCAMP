{
 "cells": [
  {
   "cell_type": "code",
   "execution_count": 1,
   "id": "b6cce3f1",
   "metadata": {},
   "outputs": [],
   "source": [
    "import pandas as pd\n",
    "import numpy as np\n",
    "import matplotlib.pyplot as plt\n",
    "import seaborn as sns"
   ]
  },
  {
   "cell_type": "code",
   "execution_count": 2,
   "id": "d814bbef",
   "metadata": {},
   "outputs": [],
   "source": [
    "# Define the file path\n",
    "file_path = r'C:\\Users\\cyril\\archive (1)\\1. Weather Data.csv'\n",
    "df = pd.read_csv(file_path)"
   ]
  },
  {
   "cell_type": "code",
   "execution_count": 3,
   "id": "32ba6d6a",
   "metadata": {},
   "outputs": [
    {
     "name": "stdout",
     "output_type": "stream",
     "text": [
      "<class 'pandas.core.frame.DataFrame'>\n",
      "RangeIndex: 8784 entries, 0 to 8783\n",
      "Data columns (total 8 columns):\n",
      " #   Column            Non-Null Count  Dtype  \n",
      "---  ------            --------------  -----  \n",
      " 0   Date/Time         8784 non-null   object \n",
      " 1   Temp_C            8784 non-null   float64\n",
      " 2   Dew Point Temp_C  8784 non-null   float64\n",
      " 3   Rel Hum_%         8784 non-null   int64  \n",
      " 4   Wind Speed_km/h   8784 non-null   int64  \n",
      " 5   Visibility_km     8784 non-null   float64\n",
      " 6   Press_kPa         8784 non-null   float64\n",
      " 7   Weather           8784 non-null   object \n",
      "dtypes: float64(4), int64(2), object(2)\n",
      "memory usage: 549.1+ KB\n",
      "\n",
      "Dataset Info:\n"
     ]
    }
   ],
   "source": [
    "# Get the key characteristics of the dataset\n",
    "df.info()\n",
    "print(\"\\nDataset Info:\")"
   ]
  },
  {
   "cell_type": "code",
   "execution_count": null,
   "id": "b3b291a0",
   "metadata": {},
   "outputs": [],
   "source": [
    "# Identify missing or null values\n",
    "missing_values = df.isnull().sum()\n",
    "print(\"\\nMissing Values in each column:\")\n",
    "print(missing_values)"
   ]
  },
  {
   "cell_type": "code",
   "execution_count": 5,
   "id": "1115b873",
   "metadata": {},
   "outputs": [
    {
     "name": "stdout",
     "output_type": "stream",
     "text": [
      "\n",
      "Missing Values after handling:\n",
      "Date/Time           0\n",
      "Temp_C              0\n",
      "Dew Point Temp_C    0\n",
      "Rel Hum_%           0\n",
      "Wind Speed_km/h     0\n",
      "Visibility_km       0\n",
      "Press_kPa           0\n",
      "Weather             0\n",
      "dtype: int64\n",
      "\n",
      "Cleaned Dataset Info:\n",
      "<class 'pandas.core.frame.DataFrame'>\n",
      "RangeIndex: 8784 entries, 0 to 8783\n",
      "Data columns (total 8 columns):\n",
      " #   Column            Non-Null Count  Dtype  \n",
      "---  ------            --------------  -----  \n",
      " 0   Date/Time         8784 non-null   object \n",
      " 1   Temp_C            8784 non-null   float64\n",
      " 2   Dew Point Temp_C  8784 non-null   float64\n",
      " 3   Rel Hum_%         8784 non-null   int64  \n",
      " 4   Wind Speed_km/h   8784 non-null   int64  \n",
      " 5   Visibility_km     8784 non-null   float64\n",
      " 6   Press_kPa         8784 non-null   float64\n",
      " 7   Weather           8784 non-null   object \n",
      "dtypes: float64(4), int64(2), object(2)\n",
      "memory usage: 549.1+ KB\n"
     ]
    }
   ],
   "source": [
    "# Handling missing values using mean for numerical columns and mode for categorical columns\n",
    "for column in df.columns:\n",
    "    if df[column].dtype == 'object': \n",
    "        df[column].fillna(df[column].mode()[0], inplace=True)\n",
    "    else: \n",
    "        df[column].fillna(df[column].mean(), inplace=True)\n",
    "\n",
    "# Verify if missing values are handled\n",
    "print(\"\\nMissing Values after handling:\")\n",
    "print(df.isnull().sum())\n",
    "\n",
    "# Display the cleaned dataset info\n",
    "print(\"\\nCleaned Dataset Info:\")\n",
    "df.info()"
   ]
  },
  {
   "cell_type": "code",
   "execution_count": 6,
   "id": "95221e9e",
   "metadata": {},
   "outputs": [
    {
     "name": "stdout",
     "output_type": "stream",
     "text": [
      "\n",
      "Number of duplicate records:\n",
      "0\n",
      "\n",
      "Number of duplicate records after removing:\n",
      "0\n"
     ]
    }
   ],
   "source": [
    "# Check for and address any duplicate records\n",
    "duplicates = df.duplicated().sum()\n",
    "print(\"\\nNumber of duplicate records:\")\n",
    "print(duplicates)\n",
    "\n",
    "# Removing duplicate records\n",
    "df.drop_duplicates(inplace=True)\n",
    "\n",
    "# Verify if duplicates are handled\n",
    "print(\"\\nNumber of duplicate records after removing:\")\n",
    "print(df.duplicated().sum())\n"
   ]
  },
  {
   "cell_type": "code",
   "execution_count": null,
   "id": "9151e215",
   "metadata": {},
   "outputs": [],
   "source": [
    "data.describe()\n"
   ]
  }
 ],
 "metadata": {
  "kernelspec": {
   "display_name": "Python 3 (ipykernel)",
   "language": "python",
   "name": "python3"
  },
  "language_info": {
   "codemirror_mode": {
    "name": "ipython",
    "version": 3
   },
   "file_extension": ".py",
   "mimetype": "text/x-python",
   "name": "python",
   "nbconvert_exporter": "python",
   "pygments_lexer": "ipython3",
   "version": "3.9.13"
  }
 },
 "nbformat": 4,
 "nbformat_minor": 5
}
