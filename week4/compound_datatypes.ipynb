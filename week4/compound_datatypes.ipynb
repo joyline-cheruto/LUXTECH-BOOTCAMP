{
 "cells": [
  {
   "cell_type": "code",
   "execution_count": 1,
   "id": "7dd92527",
   "metadata": {},
   "outputs": [
    {
     "name": "stdout",
     "output_type": "stream",
     "text": [
      "{'name': 'Cheruto', 'age': 30, 'is_student': False, 'scores': [85, 90, 88]}\n"
     ]
    }
   ],
   "source": [
    "#dictionary\n",
    "description = {\n",
    "    \"name\": \"Cheruto\",\n",
    "    \"age\": 30,\n",
    "    \"is_student\": False,\n",
    "    \"scores\": [85, 90, 88]\n",
    "}\n",
    "print(description)\n"
   ]
  },
  {
   "cell_type": "code",
   "execution_count": 2,
   "id": "f6cb8c66",
   "metadata": {},
   "outputs": [
    {
     "name": "stdout",
     "output_type": "stream",
     "text": [
      "[10, 'Hello', 3.14, True]\n"
     ]
    }
   ],
   "source": [
    "random_list = [10, \"luxtech\", 10.0, True]\n",
    "print(rand_list)\n"
   ]
  },
  {
   "cell_type": "code",
   "execution_count": null,
   "id": "2a74d79f",
   "metadata": {},
   "outputs": [],
   "source": []
  }
 ],
 "metadata": {
  "kernelspec": {
   "display_name": "Python 3 (ipykernel)",
   "language": "python",
   "name": "python3"
  },
  "language_info": {
   "codemirror_mode": {
    "name": "ipython",
    "version": 3
   },
   "file_extension": ".py",
   "mimetype": "text/x-python",
   "name": "python",
   "nbconvert_exporter": "python",
   "pygments_lexer": "ipython3",
   "version": "3.9.13"
  }
 },
 "nbformat": 4,
 "nbformat_minor": 5
}
