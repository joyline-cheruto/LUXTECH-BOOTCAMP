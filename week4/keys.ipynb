{
 "cells": [
  {
   "cell_type": "code",
   "execution_count": 1,
   "id": "097b9eb4",
   "metadata": {},
   "outputs": [],
   "source": [
    "def closest_key(input_dict, value):\n",
    "    closest_key = None\n",
    "    closest_position = float('inf')\n",
    "    \n",
    "    for key, lst in input_dict.items():\n",
    "        if value in lst:\n",
    "            position = lst.index(value)\n",
    "            if position < closest_position:\n",
    "                closest_position = position\n",
    "                closest_key = key\n",
    "    \n",
    "    return closest_key\n"
   ]
  },
  {
   "cell_type": "code",
   "execution_count": 3,
   "id": "8a1a3c30",
   "metadata": {},
   "outputs": [
    {
     "name": "stdout",
     "output_type": "stream",
     "text": [
      "c\n"
     ]
    }
   ],
   "source": [
    "input_dict = {\n",
    "    '6': ['4', '8', 'x'],\n",
    "    '7': ['u', 'v', 'x'],\n",
    "    '9': ['w', 'x', 'y']\n",
    "}\n",
    "\n",
    "value = 'x'\n",
    "result = closest_key(input_dict, value)\n",
    "print(result)\n"
   ]
  },
  {
   "cell_type": "code",
   "execution_count": null,
   "id": "69f68782",
   "metadata": {},
   "outputs": [],
   "source": []
  }
 ],
 "metadata": {
  "kernelspec": {
   "display_name": "Python 3 (ipykernel)",
   "language": "python",
   "name": "python3"
  },
  "language_info": {
   "codemirror_mode": {
    "name": "ipython",
    "version": 3
   },
   "file_extension": ".py",
   "mimetype": "text/x-python",
   "name": "python",
   "nbconvert_exporter": "python",
   "pygments_lexer": "ipython3",
   "version": "3.9.13"
  }
 },
 "nbformat": 4,
 "nbformat_minor": 5
}
