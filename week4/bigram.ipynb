{
 "cells": [
  {
   "cell_type": "code",
   "execution_count": 1,
   "id": "1e8687e3",
   "metadata": {},
   "outputs": [],
   "source": [
    "def get_bigrams(input_string):\n",
    "    # Split the string into words\n",
    "    words = input_string.split()\n",
    "    \n",
    "    # Create the list of bigrams\n",
    "    bigrams = [(words[i], words[i+1]) for i in range(len(words) - 1)]\n",
    "    \n",
    "    return bigrams\n"
   ]
  },
  {
   "cell_type": "code",
   "execution_count": 2,
   "id": "49fdec07",
   "metadata": {},
   "outputs": [
    {
     "name": "stdout",
     "output_type": "stream",
     "text": [
      "[('The', 'quick'), ('quick', 'brown'), ('brown', 'fox'), ('fox', 'jumps'), ('jumps', 'over'), ('over', 'the'), ('the', 'lazy'), ('lazy', 'dog')]\n"
     ]
    }
   ],
   "source": [
    "input_string = \"The weather in cali\"\n",
    "bigrams = get_bigrams(input_string)\n",
    "print(bigrams)\n"
   ]
  },
  {
   "cell_type": "code",
   "execution_count": null,
   "id": "944514c4",
   "metadata": {},
   "outputs": [],
   "source": []
  }
 ],
 "metadata": {
  "kernelspec": {
   "display_name": "Python 3 (ipykernel)",
   "language": "python",
   "name": "python3"
  },
  "language_info": {
   "codemirror_mode": {
    "name": "ipython",
    "version": 3
   },
   "file_extension": ".py",
   "mimetype": "text/x-python",
   "name": "python",
   "nbconvert_exporter": "python",
   "pygments_lexer": "ipython3",
   "version": "3.9.13"
  }
 },
 "nbformat": 4,
 "nbformat_minor": 5
}
