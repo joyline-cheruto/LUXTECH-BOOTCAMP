{
 "cells": [
  {
   "cell_type": "code",
   "execution_count": null,
   "id": "df6ba060",
   "metadata": {},
   "outputs": [],
   "source": [
    "import pandas as pd\n",
    "import psycopg2\n",
    "from psycopg2.extras import execute_values\n",
    "\n",
    "\n",
    "# Read the CSV file\n",
    "try:\n",
    "    df = pd.read_csv(r'C:\\Users\\cyril\\Documents\\lux academy\\1. Weather Data.csv')\n",
    "    print(f\"CSV file read successfully. Number of rows: {len(df)}\")\n",
    "except Exception as e:\n",
    "    print(f\"Error reading CSV file: {e}\")\n",
    "    cur.close()\n",
    "    conn.close()\n",
    "    exit()\n"
   ]
  },
  {
   "cell_type": "code",
   "execution_count": null,
   "id": "a34cc8db",
   "metadata": {},
   "outputs": [],
   "source": [
    "# Define connection parameters\n",
    "conn_params = {\n",
    "    'dbname': 'weather',\n",
    "    'user': 'postgres',\n",
    "    'password': 'r00t',\n",
    "    'host': 'localhost',\n",
    "    'port': '5433'\n",
    "}\n",
    "print(\"Connecting to the PostgreSQL database...\")\n"
   ]
  },
  {
   "cell_type": "code",
   "execution_count": null,
   "id": "836c1eaa",
   "metadata": {},
   "outputs": [],
   "source": [
    "# Connect to PostgreSQL\n",
    "try:\n",
    "    conn = psycopg2.connect(**conn_params)\n",
    "    cur = conn.cursor()\n",
    "    print(\"Connected successfully.\")\n",
    "except Exception as e:\n",
    "    print(f\"Error connecting to database: {e}\")\n",
    "    exit()\n"
   ]
  },
  {
   "cell_type": "code",
   "execution_count": null,
   "id": "15051b7f",
   "metadata": {},
   "outputs": [],
   "source": [
    "# Create table if not exists\n",
    "create_table_query = '''\n",
    "CREATE TABLE IF NOT EXISTS weather_data (\n",
    "    \"Date/Time\" TIMESTAMP,\n",
    "    \"Temp_C\" FLOAT,\n",
    "    \"Dew Point Temp_C\" FLOAT,\n",
    "    \"Rel Hum_%\" FLOAT,\n",
    "    \"Wind Speed_km/h\" FLOAT,\n",
    "    \"Visibility_km\" FLOAT,\n",
    "    \"Press_kPa\" FLOAT,\n",
    "    \"Weather\" TEXT\n",
    ")\n",
    "'''\n",
    "print(\"Creating table if it does not exist...\")\n"
   ]
  },
  {
   "cell_type": "code",
   "execution_count": null,
   "id": "5e827d9e",
   "metadata": {},
   "outputs": [],
   "source": [
    "\n",
    "try:\n",
    "    cur.execute(create_table_query)\n",
    "    print(\"Table created or already exists.\")\n",
    "except Exception as e:\n",
    "    print(f\"Error creating table: {e}\")\n",
    "    conn.close()\n",
    "    exit()\n"
   ]
  },
  {
   "cell_type": "code",
   "execution_count": null,
   "id": "8ad7df81",
   "metadata": {},
   "outputs": [],
   "source": [
    "\n",
    "# Prepare the insert statement with properly escaped column names\n",
    "insert_query = '''\n",
    "INSERT INTO weather_data (\"Date/Time\", \"Temp_C\", \"Dew Point Temp_C\", \"Rel Hum_%\", \"Wind Speed_km/h\", \"Visibility_km\", \"Press_kPa\", \"Weather\")\n",
    "VALUES %s\n",
    "'''\n"
   ]
  },
  {
   "cell_type": "code",
   "execution_count": null,
   "id": "595786b5",
   "metadata": {},
   "outputs": [],
   "source": [
    "print(\"Reading CSV file...\")\n",
    "\n",
    "# Convert DataFrame to list of tuples\n",
    "data_tuples = [tuple(row) for row in df.itertuples(index=False)]\n",
    "\n",
    "print(\"Inserting data into the table...\")\n",
    "try:\n",
    "    execute_values(cur, insert_query, data_tuples)\n",
    "    conn.commit()  # Commit the transaction\n",
    "    print(\"Data inserted successfully.\")\n",
    "except Exception as e:\n",
    "    print(f\"Error inserting data: {e}\")\n",
    "    conn.rollback()  # Rollback the transaction in case of error\n",
    "finally:\n",
    "    cur.close()  # Close the cursor\n",
    "    conn.close()  # Close the connection\n",
    "    print(\"Database connection closed.\")"
   ]
  },
  {
   "cell_type": "code",
   "execution_count": null,
   "id": "27b4f61e",
   "metadata": {},
   "outputs": [],
   "source": []
  }
 ],
 "metadata": {
  "kernelspec": {
   "display_name": "Python 3 (ipykernel)",
   "language": "python",
   "name": "python3"
  },
  "language_info": {
   "codemirror_mode": {
    "name": "ipython",
    "version": 3
   },
   "file_extension": ".py",
   "mimetype": "text/x-python",
   "name": "python",
   "nbconvert_exporter": "python",
   "pygments_lexer": "ipython3",
   "version": "3.9.13"
  }
 },
 "nbformat": 4,
 "nbformat_minor": 5
}
