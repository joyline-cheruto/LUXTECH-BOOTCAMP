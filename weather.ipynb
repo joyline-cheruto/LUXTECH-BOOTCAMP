{
 "cells": [
  {
   "cell_type": "code",
   "execution_count": 2,
   "id": "14e48998",
   "metadata": {},
   "outputs": [],
   "source": [
    "import pandas as pd\n",
    "import numpy as np"
   ]
  },
  {
   "cell_type": "code",
   "execution_count": 6,
   "id": "acf5a4a9",
   "metadata": {},
   "outputs": [],
   "source": [
    "file_path = r'C:\\Users\\cyril\\Documents\\lux academy\\1. Weather Data.csv'\n",
    "df = pd.read_csv(file_path)"
   ]
  },
  {
   "cell_type": "code",
   "execution_count": 7,
   "id": "5d25e3ba",
   "metadata": {},
   "outputs": [
    {
     "name": "stdout",
     "output_type": "stream",
     "text": [
      "Top 10 rows:\n",
      "       Date/Time  Temp_C  Dew Point Temp_C  Rel Hum_%  Wind Speed_km/h  \\\n",
      "0  1/1/2012 0:00    -1.8              -3.9         86                4   \n",
      "1  1/1/2012 1:00    -1.8              -3.7         87                4   \n",
      "2  1/1/2012 2:00    -1.8              -3.4         89                7   \n",
      "3  1/1/2012 3:00    -1.5              -3.2         88                6   \n",
      "4  1/1/2012 4:00    -1.5              -3.3         88                7   \n",
      "5  1/1/2012 5:00    -1.4              -3.3         87                9   \n",
      "6  1/1/2012 6:00    -1.5              -3.1         89                7   \n",
      "7  1/1/2012 7:00    -1.4              -3.6         85                7   \n",
      "8  1/1/2012 8:00    -1.4              -3.6         85                9   \n",
      "9  1/1/2012 9:00    -1.3              -3.1         88               15   \n",
      "\n",
      "   Visibility_km  Press_kPa               Weather  \n",
      "0            8.0     101.24                   Fog  \n",
      "1            8.0     101.24                   Fog  \n",
      "2            4.0     101.26  Freezing Drizzle,Fog  \n",
      "3            4.0     101.27  Freezing Drizzle,Fog  \n",
      "4            4.8     101.23                   Fog  \n",
      "5            6.4     101.27                   Fog  \n",
      "6            6.4     101.29                   Fog  \n",
      "7            8.0     101.26                   Fog  \n",
      "8            8.0     101.23                   Fog  \n",
      "9            4.0     101.20                   Fog  \n"
     ]
    }
   ],
   "source": [
    "print(\"Top 10 rows:\")\n",
    "print(df.head(10))"
   ]
  },
  {
   "cell_type": "code",
   "execution_count": 8,
   "id": "292eb4e8",
   "metadata": {},
   "outputs": [
    {
     "name": "stdout",
     "output_type": "stream",
     "text": [
      "Last 10 rows:\n",
      "             Date/Time  Temp_C  Dew Point Temp_C  Rel Hum_%  Wind Speed_km/h  \\\n",
      "8774  12/31/2012 14:00    -3.4              -5.7         84                6   \n",
      "8775  12/31/2012 15:00    -2.3              -4.6         84                9   \n",
      "8776  12/31/2012 16:00    -1.4              -4.0         82               13   \n",
      "8777  12/31/2012 17:00    -1.1              -3.3         85               19   \n",
      "8778  12/31/2012 18:00    -1.3              -3.1         88               17   \n",
      "8779  12/31/2012 19:00     0.1              -2.7         81               30   \n",
      "8780  12/31/2012 20:00     0.2              -2.4         83               24   \n",
      "8781  12/31/2012 21:00    -0.5              -1.5         93               28   \n",
      "8782  12/31/2012 22:00    -0.2              -1.8         89               28   \n",
      "8783  12/31/2012 23:00     0.0              -2.1         86               30   \n",
      "\n",
      "      Visibility_km  Press_kPa Weather  \n",
      "8774           11.3     100.57    Snow  \n",
      "8775            9.7     100.47    Snow  \n",
      "8776           12.9     100.40    Snow  \n",
      "8777            9.7     100.30    Snow  \n",
      "8778            9.7     100.19    Snow  \n",
      "8779            9.7     100.13    Snow  \n",
      "8780            9.7     100.03    Snow  \n",
      "8781            4.8      99.95    Snow  \n",
      "8782            9.7      99.91    Snow  \n",
      "8783           11.3      99.89    Snow  \n"
     ]
    }
   ],
   "source": [
    "print(\"Last 10 rows:\")\n",
    "print(df.tail(10))"
   ]
  },
  {
   "cell_type": "code",
   "execution_count": 9,
   "id": "f82498d7",
   "metadata": {},
   "outputs": [
    {
     "name": "stdout",
     "output_type": "stream",
     "text": [
      "Total number of rows: 8784\n",
      "Total number of columns: 8\n"
     ]
    }
   ],
   "source": [
    "print(\"Total number of rows:\", df.shape[0])\n",
    "print(\"Total number of columns:\", df.shape[1])"
   ]
  },
  {
   "cell_type": "code",
   "execution_count": 10,
   "id": "e1a8ae96",
   "metadata": {},
   "outputs": [
    {
     "name": "stdout",
     "output_type": "stream",
     "text": [
      "Records where the weather was exactly clear:\n",
      "             Date/Time  Temp_C  Dew Point Temp_C  Rel Hum_%  Wind Speed_km/h  \\\n",
      "67      1/3/2012 19:00   -16.9             -24.8         50               24   \n",
      "114     1/5/2012 18:00    -7.1             -14.4         56               11   \n",
      "115     1/5/2012 19:00    -9.2             -15.4         61                7   \n",
      "116     1/5/2012 20:00    -9.8             -15.7         62                9   \n",
      "117     1/5/2012 21:00    -9.0             -14.8         63               13   \n",
      "...                ...     ...               ...        ...              ...   \n",
      "8646   12/26/2012 6:00   -13.4             -14.8         89                4   \n",
      "8698  12/28/2012 10:00    -6.1              -8.6         82               19   \n",
      "8713   12/29/2012 1:00   -11.9             -13.6         87               11   \n",
      "8714   12/29/2012 2:00   -11.8             -13.1         90               13   \n",
      "8756  12/30/2012 20:00   -13.8             -16.5         80               24   \n",
      "\n",
      "      Visibility_km  Press_kPa Weather  \n",
      "67             25.0     101.74   Clear  \n",
      "114            25.0     100.71   Clear  \n",
      "115            25.0     100.80   Clear  \n",
      "116            25.0     100.83   Clear  \n",
      "117            25.0     100.83   Clear  \n",
      "...             ...        ...     ...  \n",
      "8646           25.0     102.47   Clear  \n",
      "8698           24.1     101.27   Clear  \n",
      "8713           25.0     101.31   Clear  \n",
      "8714           25.0     101.33   Clear  \n",
      "8756           25.0     101.52   Clear  \n",
      "\n",
      "[1326 rows x 8 columns]\n"
     ]
    }
   ],
   "source": [
    "clear_weather_records = df[df['Weather'] == 'Clear']\n",
    "print(\"Records where the weather was exactly clear:\")\n",
    "print(clear_weather_records)\n"
   ]
  },
  {
   "cell_type": "code",
   "execution_count": null,
   "id": "5130e484",
   "metadata": {},
   "outputs": [],
   "source": []
  }
 ],
 "metadata": {
  "kernelspec": {
   "display_name": "Python 3 (ipykernel)",
   "language": "python",
   "name": "python3"
  },
  "language_info": {
   "codemirror_mode": {
    "name": "ipython",
    "version": 3
   },
   "file_extension": ".py",
   "mimetype": "text/x-python",
   "name": "python",
   "nbconvert_exporter": "python",
   "pygments_lexer": "ipython3",
   "version": "3.9.13"
  }
 },
 "nbformat": 4,
 "nbformat_minor": 5
}
