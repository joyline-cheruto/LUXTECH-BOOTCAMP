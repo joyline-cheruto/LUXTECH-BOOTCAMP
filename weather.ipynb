{
 "cells": [
  {
   "cell_type": "code",
   "execution_count": 2,
   "id": "14e48998",
   "metadata": {},
   "outputs": [],
   "source": [
    "import pandas as pd\n",
    "import numpy as np"
   ]
  },
  {
   "cell_type": "code",
   "execution_count": 6,
   "id": "20318e50",
   "metadata": {},
   "outputs": [],
   "source": [
    "file_path = r'C:\\Users\\cyril\\Documents\\lux academy\\1. Weather Data.csv'\n",
    "df = pd.read_csv(file_path)"
   ]
  },
  {
   "cell_type": "code",
   "execution_count": 7,
   "id": "b6aa8c14",
   "metadata": {},
   "outputs": [
    {
     "name": "stdout",
     "output_type": "stream",
     "text": [
      "Top 10 rows:\n",
      "       Date/Time  Temp_C  Dew Point Temp_C  Rel Hum_%  Wind Speed_km/h  \\\n",
      "0  1/1/2012 0:00    -1.8              -3.9         86                4   \n",
      "1  1/1/2012 1:00    -1.8              -3.7         87                4   \n",
      "2  1/1/2012 2:00    -1.8              -3.4         89                7   \n",
      "3  1/1/2012 3:00    -1.5              -3.2         88                6   \n",
      "4  1/1/2012 4:00    -1.5              -3.3         88                7   \n",
      "5  1/1/2012 5:00    -1.4              -3.3         87                9   \n",
      "6  1/1/2012 6:00    -1.5              -3.1         89                7   \n",
      "7  1/1/2012 7:00    -1.4              -3.6         85                7   \n",
      "8  1/1/2012 8:00    -1.4              -3.6         85                9   \n",
      "9  1/1/2012 9:00    -1.3              -3.1         88               15   \n",
      "\n",
      "   Visibility_km  Press_kPa               Weather  \n",
      "0            8.0     101.24                   Fog  \n",
      "1            8.0     101.24                   Fog  \n",
      "2            4.0     101.26  Freezing Drizzle,Fog  \n",
      "3            4.0     101.27  Freezing Drizzle,Fog  \n",
      "4            4.8     101.23                   Fog  \n",
      "5            6.4     101.27                   Fog  \n",
      "6            6.4     101.29                   Fog  \n",
      "7            8.0     101.26                   Fog  \n",
      "8            8.0     101.23                   Fog  \n",
      "9            4.0     101.20                   Fog  \n"
     ]
    }
   ],
   "source": [
    "print(\"Top 10 rows:\")\n",
    "print(df.head(10))"
   ]
  },
  {
   "cell_type": "code",
   "execution_count": 8,
   "id": "346e831d",
   "metadata": {},
   "outputs": [
    {
     "name": "stdout",
     "output_type": "stream",
     "text": [
      "Last 10 rows:\n",
      "             Date/Time  Temp_C  Dew Point Temp_C  Rel Hum_%  Wind Speed_km/h  \\\n",
      "8774  12/31/2012 14:00    -3.4              -5.7         84                6   \n",
      "8775  12/31/2012 15:00    -2.3              -4.6         84                9   \n",
      "8776  12/31/2012 16:00    -1.4              -4.0         82               13   \n",
      "8777  12/31/2012 17:00    -1.1              -3.3         85               19   \n",
      "8778  12/31/2012 18:00    -1.3              -3.1         88               17   \n",
      "8779  12/31/2012 19:00     0.1              -2.7         81               30   \n",
      "8780  12/31/2012 20:00     0.2              -2.4         83               24   \n",
      "8781  12/31/2012 21:00    -0.5              -1.5         93               28   \n",
      "8782  12/31/2012 22:00    -0.2              -1.8         89               28   \n",
      "8783  12/31/2012 23:00     0.0              -2.1         86               30   \n",
      "\n",
      "      Visibility_km  Press_kPa Weather  \n",
      "8774           11.3     100.57    Snow  \n",
      "8775            9.7     100.47    Snow  \n",
      "8776           12.9     100.40    Snow  \n",
      "8777            9.7     100.30    Snow  \n",
      "8778            9.7     100.19    Snow  \n",
      "8779            9.7     100.13    Snow  \n",
      "8780            9.7     100.03    Snow  \n",
      "8781            4.8      99.95    Snow  \n",
      "8782            9.7      99.91    Snow  \n",
      "8783           11.3      99.89    Snow  \n"
     ]
    }
   ],
   "source": [
    "print(\"Last 10 rows:\")\n",
    "print(df.tail(10))"
   ]
  },
  {
   "cell_type": "code",
   "execution_count": 9,
   "id": "c80af227",
   "metadata": {},
   "outputs": [
    {
     "name": "stdout",
     "output_type": "stream",
     "text": [
      "Total number of rows: 8784\n",
      "Total number of columns: 8\n"
     ]
    }
   ],
   "source": [
    "print(\"Total number of rows:\", df.shape[0])\n",
    "print(\"Total number of columns:\", df.shape[1])"
   ]
  },
  {
   "cell_type": "code",
   "execution_count": null,
   "id": "c7bcfacf",
   "metadata": {},
   "outputs": [],
   "source": []
  }
 ],
 "metadata": {
  "kernelspec": {
   "display_name": "Python 3 (ipykernel)",
   "language": "python",
   "name": "python3"
  },
  "language_info": {
   "codemirror_mode": {
    "name": "ipython",
    "version": 3
   },
   "file_extension": ".py",
   "mimetype": "text/x-python",
   "name": "python",
   "nbconvert_exporter": "python",
   "pygments_lexer": "ipython3",
   "version": "3.9.13"
  }
 },
 "nbformat": 4,
 "nbformat_minor": 5
}
