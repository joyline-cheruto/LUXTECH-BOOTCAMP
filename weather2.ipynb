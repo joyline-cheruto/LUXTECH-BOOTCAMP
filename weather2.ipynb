{
 "cells": [
  {
   "cell_type": "code",
   "execution_count": 9,
   "id": "df6ba060",
   "metadata": {},
   "outputs": [
    {
     "name": "stdout",
     "output_type": "stream",
     "text": [
      "Reading CSV file...\n",
      "CSV file read successfully. Number of rows: 8784\n"
     ]
    }
   ],
   "source": [
    "import pandas as pd\n",
    "import psycopg2\n",
    "from psycopg2.extras import execute_values\n",
    "\n",
    "\n",
    "# Read the CSV file\n",
    "print(\"Reading CSV file...\")\n",
    "\n",
    "try:\n",
    "    df = pd.read_csv(r'C:\\Users\\cyril\\Documents\\lux academy\\1. Weather Data.csv')\n",
    "    print(f\"CSV file read successfully. Number of rows: {len(df)}\")\n",
    "except Exception as e:\n",
    "    print(f\"Error reading CSV file: {e}\")\n",
    "    cur.close()\n",
    "    conn.close()\n",
    "    exit()\n"
   ]
  },
  {
   "cell_type": "code",
   "execution_count": 10,
   "id": "a34cc8db",
   "metadata": {},
   "outputs": [
    {
     "name": "stdout",
     "output_type": "stream",
     "text": [
      "Connecting to the PostgreSQL database...\n"
     ]
    }
   ],
   "source": [
    "# Define connection parameters\n",
    "conn_params = {\n",
    "    'dbname': 'weather',\n",
    "    'user': 'postgres',\n",
    "    'password': 'r00t',\n",
    "    'host': 'localhost',\n",
    "    'port': '5433'\n",
    "}\n",
    "print(\"Connecting to the PostgreSQL database...\")\n"
   ]
  },
  {
   "cell_type": "code",
   "execution_count": 11,
   "id": "317a8b8e",
   "metadata": {},
   "outputs": [
    {
     "name": "stdout",
     "output_type": "stream",
     "text": [
      "Connected successfully.\n"
     ]
    }
   ],
   "source": [
    "# Connect to PostgreSQL\n",
    "try:\n",
    "    conn = psycopg2.connect(**conn_params)\n",
    "    cur = conn.cursor()\n",
    "    print(\"Connected successfully.\")\n",
    "except Exception as e:\n",
    "    print(f\"Error connecting to database: {e}\")\n",
    "    exit()\n"
   ]
  },
  {
   "cell_type": "code",
   "execution_count": 12,
   "id": "5ac310d4",
   "metadata": {},
   "outputs": [
    {
     "name": "stdout",
     "output_type": "stream",
     "text": [
      "Creating table if it does not exist...\n"
     ]
    }
   ],
   "source": [
    "# Create table if not exists\n",
    "create_table_query = '''\n",
    "CREATE TABLE IF NOT EXISTS weather_data (\n",
    "    \"Date/Time\" TIMESTAMP,\n",
    "    \"Temp_C\" FLOAT,\n",
    "    \"Dew Point Temp_C\" FLOAT,\n",
    "    \"Rel Hum_%\" FLOAT,\n",
    "    \"Wind Speed_km/h\" FLOAT,\n",
    "    \"Visibility_km\" FLOAT,\n",
    "    \"Press_kPa\" FLOAT,\n",
    "    \"Weather\" TEXT\n",
    ")\n",
    "'''\n",
    "print(\"Creating table if it does not exist...\")\n"
   ]
  },
  {
   "cell_type": "code",
   "execution_count": 13,
   "id": "89d35752",
   "metadata": {},
   "outputs": [
    {
     "name": "stdout",
     "output_type": "stream",
     "text": [
      "Table created or already exists.\n"
     ]
    }
   ],
   "source": [
    "\n",
    "try:\n",
    "    cur.execute(create_table_query)\n",
    "    print(\"Table created or already exists.\")\n",
    "except Exception as e:\n",
    "    print(f\"Error creating table: {e}\")\n",
    "    conn.close()\n",
    "    exit()\n"
   ]
  },
  {
   "cell_type": "code",
   "execution_count": 16,
   "id": "dd9a5fb3",
   "metadata": {},
   "outputs": [],
   "source": [
    "insert_query = '''\n",
    "INSERT INTO weather_data (`Date/Time`, `Temp_C`, `Dew Point Temp_C`, `Rel Hum_%`, `Wind Speed_km/h`, `Visibility_km`, `Press_kPa`, `Weather`)\n",
    "VALUES %s\n",
    "'''\n"
   ]
  },
  {
   "cell_type": "code",
   "execution_count": 17,
   "id": "c5979440",
   "metadata": {},
   "outputs": [
    {
     "name": "stdout",
     "output_type": "stream",
     "text": [
      "Inserting data into the table...\n",
      "Error inserting data: cursor already closed\n",
      "Database connection closed.\n"
     ]
    },
    {
     "ename": "InterfaceError",
     "evalue": "connection already closed",
     "output_type": "error",
     "traceback": [
      "\u001b[1;31m---------------------------------------------------------------------------\u001b[0m",
      "\u001b[1;31mInterfaceError\u001b[0m                            Traceback (most recent call last)",
      "\u001b[1;32m~\\AppData\\Local\\Temp\\ipykernel_7688\\98586377.py\u001b[0m in \u001b[0;36m<module>\u001b[1;34m\u001b[0m\n\u001b[0;32m      4\u001b[0m     \u001b[1;32mfor\u001b[0m \u001b[0mrow\u001b[0m \u001b[1;32min\u001b[0m \u001b[0mdf\u001b[0m\u001b[1;33m.\u001b[0m\u001b[0mitertuples\u001b[0m\u001b[1;33m(\u001b[0m\u001b[0mindex\u001b[0m\u001b[1;33m=\u001b[0m\u001b[1;32mFalse\u001b[0m\u001b[1;33m)\u001b[0m\u001b[1;33m:\u001b[0m\u001b[1;33m\u001b[0m\u001b[1;33m\u001b[0m\u001b[0m\n\u001b[1;32m----> 5\u001b[1;33m         \u001b[0mcur\u001b[0m\u001b[1;33m.\u001b[0m\u001b[0mexecute\u001b[0m\u001b[1;33m(\u001b[0m\u001b[0minsert_query\u001b[0m\u001b[1;33m,\u001b[0m \u001b[0mtuple\u001b[0m\u001b[1;33m(\u001b[0m\u001b[0mrow\u001b[0m\u001b[1;33m)\u001b[0m\u001b[1;33m)\u001b[0m\u001b[1;33m\u001b[0m\u001b[1;33m\u001b[0m\u001b[0m\n\u001b[0m\u001b[0;32m      6\u001b[0m     \u001b[0mconn\u001b[0m\u001b[1;33m.\u001b[0m\u001b[0mcommit\u001b[0m\u001b[1;33m(\u001b[0m\u001b[1;33m)\u001b[0m  \u001b[1;31m# Commit the transaction\u001b[0m\u001b[1;33m\u001b[0m\u001b[1;33m\u001b[0m\u001b[0m\n",
      "\u001b[1;31mInterfaceError\u001b[0m: cursor already closed",
      "\nDuring handling of the above exception, another exception occurred:\n",
      "\u001b[1;31mInterfaceError\u001b[0m                            Traceback (most recent call last)",
      "\u001b[1;32m~\\AppData\\Local\\Temp\\ipykernel_7688\\98586377.py\u001b[0m in \u001b[0;36m<module>\u001b[1;34m\u001b[0m\n\u001b[0;32m      8\u001b[0m \u001b[1;32mexcept\u001b[0m \u001b[0mException\u001b[0m \u001b[1;32mas\u001b[0m \u001b[0me\u001b[0m\u001b[1;33m:\u001b[0m\u001b[1;33m\u001b[0m\u001b[1;33m\u001b[0m\u001b[0m\n\u001b[0;32m      9\u001b[0m     \u001b[0mprint\u001b[0m\u001b[1;33m(\u001b[0m\u001b[1;34mf\"Error inserting data: {e}\"\u001b[0m\u001b[1;33m)\u001b[0m\u001b[1;33m\u001b[0m\u001b[1;33m\u001b[0m\u001b[0m\n\u001b[1;32m---> 10\u001b[1;33m     \u001b[0mconn\u001b[0m\u001b[1;33m.\u001b[0m\u001b[0mrollback\u001b[0m\u001b[1;33m(\u001b[0m\u001b[1;33m)\u001b[0m  \u001b[1;31m# Rollback the transaction in case of error\u001b[0m\u001b[1;33m\u001b[0m\u001b[1;33m\u001b[0m\u001b[0m\n\u001b[0m\u001b[0;32m     11\u001b[0m \u001b[1;32mfinally\u001b[0m\u001b[1;33m:\u001b[0m\u001b[1;33m\u001b[0m\u001b[1;33m\u001b[0m\u001b[0m\n\u001b[0;32m     12\u001b[0m     \u001b[0mcur\u001b[0m\u001b[1;33m.\u001b[0m\u001b[0mclose\u001b[0m\u001b[1;33m(\u001b[0m\u001b[1;33m)\u001b[0m  \u001b[1;31m# Close the cursor\u001b[0m\u001b[1;33m\u001b[0m\u001b[1;33m\u001b[0m\u001b[0m\n",
      "\u001b[1;31mInterfaceError\u001b[0m: connection already closed"
     ]
    }
   ],
   "source": [
    "# Insert data into the table\n",
    "print(\"Inserting data into the table...\")\n",
    "try:\n",
    "    for row in df.itertuples(index=False):\n",
    "        cur.execute(insert_query, tuple(row))\n",
    "    conn.commit()  # Commit the transaction\n",
    "    print(\"Data inserted successfully.\")\n",
    "except Exception as e:\n",
    "    print(f\"Error inserting data: {e}\")\n",
    "    conn.rollback()  # Rollback the transaction in case of error\n",
    "finally:\n",
    "    cur.close()  # Close the cursor\n",
    "    conn.close()  # Close the connection\n",
    "    print(\"Database connection closed.\")"
   ]
  },
  {
   "cell_type": "code",
   "execution_count": null,
   "id": "15439d46",
   "metadata": {},
   "outputs": [],
   "source": []
  }
 ],
 "metadata": {
  "kernelspec": {
   "display_name": "Python 3 (ipykernel)",
   "language": "python",
   "name": "python3"
  },
  "language_info": {
   "codemirror_mode": {
    "name": "ipython",
    "version": 3
   },
   "file_extension": ".py",
   "mimetype": "text/x-python",
   "name": "python",
   "nbconvert_exporter": "python",
   "pygments_lexer": "ipython3",
   "version": "3.9.13"
  }
 },
 "nbformat": 4,
 "nbformat_minor": 5
}
